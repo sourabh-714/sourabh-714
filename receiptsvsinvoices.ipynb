{
  "nbformat": 4,
  "nbformat_minor": 0,
  "metadata": {
    "colab": {
      "provenance": []
    },
    "kernelspec": {
      "name": "python3",
      "display_name": "Python 3"
    }
  },
  "cells": [
    {
      "cell_type": "code",
      "metadata": {
        "id": "0Ulrp49pDikB"
      },
      "source": [
        "from google.colab import drive\n",
        "drive.mount('/content/gdrive')"
      ],
      "execution_count": null,
      "outputs": []
    },
    {
      "cell_type": "code",
      "metadata": {
        "id": "u9XG3WumCEt7",
        "outputId": "5ff00894-9c95-469e-c248-17d3e651b318",
        "colab": {
          "base_uri": "https://localhost:8080/",
          "height": 870
        }
      },
      "source": [
        " from tensorflow.keras.applications import VGG16\n",
        "import numpy as np\n",
        "import os\n",
        "vgg_base = VGG16(weights='imagenet',    # use weights for ImageNet\n",
        "                 include_top=False,     # drop the Dense layers!\n",
        "                 input_shape=(150, 150, 3))\n",
        "print(vgg_base.summary())"
      ],
      "execution_count": null,
      "outputs": [
        {
          "output_type": "stream",
          "text": [
            "Downloading data from https://storage.googleapis.com/tensorflow/keras-applications/vgg16/vgg16_weights_tf_dim_ordering_tf_kernels_notop.h5\n",
            "58892288/58889256 [==============================] - 0s 0us/step\n",
            "Model: \"vgg16\"\n",
            "_________________________________________________________________\n",
            "Layer (type)                 Output Shape              Param #   \n",
            "=================================================================\n",
            "input_1 (InputLayer)         [(None, 150, 150, 3)]     0         \n",
            "_________________________________________________________________\n",
            "block1_conv1 (Conv2D)        (None, 150, 150, 64)      1792      \n",
            "_________________________________________________________________\n",
            "block1_conv2 (Conv2D)        (None, 150, 150, 64)      36928     \n",
            "_________________________________________________________________\n",
            "block1_pool (MaxPooling2D)   (None, 75, 75, 64)        0         \n",
            "_________________________________________________________________\n",
            "block2_conv1 (Conv2D)        (None, 75, 75, 128)       73856     \n",
            "_________________________________________________________________\n",
            "block2_conv2 (Conv2D)        (None, 75, 75, 128)       147584    \n",
            "_________________________________________________________________\n",
            "block2_pool (MaxPooling2D)   (None, 37, 37, 128)       0         \n",
            "_________________________________________________________________\n",
            "block3_conv1 (Conv2D)        (None, 37, 37, 256)       295168    \n",
            "_________________________________________________________________\n",
            "block3_conv2 (Conv2D)        (None, 37, 37, 256)       590080    \n",
            "_________________________________________________________________\n",
            "block3_conv3 (Conv2D)        (None, 37, 37, 256)       590080    \n",
            "_________________________________________________________________\n",
            "block3_pool (MaxPooling2D)   (None, 18, 18, 256)       0         \n",
            "_________________________________________________________________\n",
            "block4_conv1 (Conv2D)        (None, 18, 18, 512)       1180160   \n",
            "_________________________________________________________________\n",
            "block4_conv2 (Conv2D)        (None, 18, 18, 512)       2359808   \n",
            "_________________________________________________________________\n",
            "block4_conv3 (Conv2D)        (None, 18, 18, 512)       2359808   \n",
            "_________________________________________________________________\n",
            "block4_pool (MaxPooling2D)   (None, 9, 9, 512)         0         \n",
            "_________________________________________________________________\n",
            "block5_conv1 (Conv2D)        (None, 9, 9, 512)         2359808   \n",
            "_________________________________________________________________\n",
            "block5_conv2 (Conv2D)        (None, 9, 9, 512)         2359808   \n",
            "_________________________________________________________________\n",
            "block5_conv3 (Conv2D)        (None, 9, 9, 512)         2359808   \n",
            "_________________________________________________________________\n",
            "block5_pool (MaxPooling2D)   (None, 4, 4, 512)         0         \n",
            "=================================================================\n",
            "Total params: 14,714,688\n",
            "Trainable params: 14,714,688\n",
            "Non-trainable params: 0\n",
            "_________________________________________________________________\n",
            "None\n"
          ],
          "name": "stdout"
        }
      ]
    },
    {
      "cell_type": "code",
      "metadata": {
        "id": "moGE0W7-1jNL",
        "outputId": "a883945f-904f-4ec0-a5c1-95b7b6a87490",
        "colab": {
          "base_uri": "https://localhost:8080/",
          "height": 34
        }
      },
      "source": [
        "import tensorflow as tf\n",
        "\n",
        "from tensorflow import keras\n",
        "\n",
        "tf.keras.Sequential(layers=None, name=None)"
      ],
      "execution_count": null,
      "outputs": [
        {
          "output_type": "execute_result",
          "data": {
            "text/plain": [
              "<tensorflow.python.keras.engine.sequential.Sequential at 0x7f2e268327b8>"
            ]
          },
          "metadata": {
            "tags": []
          },
          "execution_count": 5
        }
      ]
    },
    {
      "cell_type": "code",
      "metadata": {
        "id": "b3yngpsFrcqO"
      },
      "source": [
        "from tensorflow.keras.layers import Flatten, Dense, Dropout\n",
        "from tensorflow.keras.optimizers import Adam\n",
        "\n",
        "\n",
        "\n",
        "model = tf.keras.Sequential([\n",
        "\n",
        "        vgg_base,\n",
        "\n",
        "        Flatten(),\n",
        "        Dropout(0.50),\n",
        "        Dense(1024, activation='relu'),\n",
        "        Dropout(0.20),\n",
        "        Dense(512, activation='relu'),\n",
        "        Dropout(0.10),\n",
        "        Dense(1, activation='sigmoid')\n",
        "    ])"
      ],
      "execution_count": null,
      "outputs": []
    },
    {
      "cell_type": "code",
      "metadata": {
        "id": "MPnuNiq20vNX"
      },
      "source": [
        "vgg_base.trainable = False\n"
      ],
      "execution_count": null,
      "outputs": []
    },
    {
      "cell_type": "code",
      "metadata": {
        "id": "rf807uDc49M4"
      },
      "source": [
        "model.compile(optimizer=Adam(lr=1e-4),\n",
        "              loss='binary_crossentropy',\n",
        "              metrics=['accuracy'])"
      ],
      "execution_count": null,
      "outputs": []
    },
    {
      "cell_type": "code",
      "metadata": {
        "id": "MsrNmlr74_kU"
      },
      "source": [
        "def build_model():\n",
        "    from tensorflow.keras.layers import Flatten, Dense, Dropout\n",
        "    from tensorflow.keras.optimizers import Adam\n",
        "\n",
        "    model = tf.keras.models.Sequential([\n",
        "        # our vgg16_base model added as a layer\n",
        "        vgg_base,\n",
        "        # here is our custom prediction layer (same as before)\n",
        "        Flatten(),\n",
        "        Dropout(0.50),\n",
        "        Dense(1024, activation='relu'),\n",
        "        Dropout(0.20),\n",
        "        Dense(512, activation='relu'),\n",
        "        Dropout(0.10),\n",
        "        Dense(1, activation='sigmoid')\n",
        "    ])\n",
        "\n",
        "    # mark the top 2 layers of vgg_base as trainable\n",
        "    trainable = False\n",
        "    for layer in vgg_base.layers:\n",
        "       if layer.name == 'block5_conv2':\n",
        "           trainable = True\n",
        "    layer.trainable = trainable\n",
        "\n",
        "    model.compile(optimizer=Adam(lr=1e-4),\n",
        "                  loss='binary_crossentropy',\n",
        "                  metrics=['accuracy'])\n",
        "    return model"
      ],
      "execution_count": null,
      "outputs": []
    },
    {
      "cell_type": "code",
      "metadata": {
        "id": "edTSw8ZS9H98",
        "outputId": "43e32fd7-6b93-425f-d786-e7763da87689",
        "colab": {
          "base_uri": "https://localhost:8080/",
          "height": 34
        }
      },
      "source": [
        "images_root = \"/content/gdrive/My Drive/class\"\n",
        "train_root = os.path.join(images_root,'train')\n",
        "eval_root = os.path.join(images_root,'validate')\n",
        "test_root=os.path.join(images_root,'test')\n",
        "from keras.preprocessing.image import ImageDataGenerator\n"
      ],
      "execution_count": null,
      "outputs": [
        {
          "output_type": "stream",
          "text": [
            "Using TensorFlow backend.\n"
          ],
          "name": "stderr"
        }
      ]
    },
    {
      "cell_type": "code",
      "metadata": {
        "id": "zTU9hmdfKY_u",
        "outputId": "55843678-8918-4cd0-d529-8c4c9a57fede",
        "colab": {
          "base_uri": "https://localhost:8080/",
          "height": 1000
        }
      },
      "source": [
        "model = build_model()\n",
        "# Step-1: Create data generators\n",
        "# -----------------------------------\n",
        "# build our image data generators --\n",
        "train_datagen = ImageDataGenerator(\n",
        "    rescale=1.0/255,\n",
        "    rotation_range=40,\n",
        "    width_shift_range=0.2,\n",
        "    height_shift_range=0.2,\n",
        "    shear_range=0.2,\n",
        "    zoom_range=0.2,\n",
        "    horizontal_flip=True,\n",
        "    fill_mode='nearest')\n",
        "# NOTE: no image aug for eval & test datagenerators\n",
        "eval_datagen = ImageDataGenerator(rescale=1.0/255)\n",
        "test_datagen = ImageDataGenerator(rescale=1.0/255)\n",
        "\n",
        "# ALL IMAGES TO BE RESIZED to (150,150,3)\n",
        "train_generator = train_datagen.flow_from_directory(\n",
        "    train_root,\n",
        "    target_size=(150,150),\n",
        "    batch_size=10,\n",
        "    class_mode='binary')\n",
        "eval_generator = eval_datagen.flow_from_directory(\n",
        "    eval_root,\n",
        "    target_size=(150,150),\n",
        "    batch_size=10,\n",
        "    class_mode='binary')\n",
        "\n",
        "\n",
        "\n",
        "test_generator = test_datagen.flow_from_directory(\n",
        "    test_root,\n",
        "    target_size=(150,150),\n",
        "    batch_size=10,\n",
        "    class_mode='binary')\n",
        "val_steps = eval_generator.n // 10\n",
        "# train model on generator with batch size = 4\n",
        "train_steps = train_generator.n // 10\n",
        "\n",
        "\n",
        "test_steps = test_generator.n // 10\n",
        "history=model.fit_generator(\n",
        "    train_generator,\n",
        "    steps_per_epoch=train_steps,\n",
        "    epochs=50,\n",
        "    validation_data=eval_generator,\n",
        "    validation_steps=val_steps)"
      ],
      "execution_count": null,
      "outputs": [
        {
          "output_type": "stream",
          "text": [
            "Found 342 images belonging to 2 classes.\n",
            "Found 10 images belonging to 2 classes.\n",
            "Found 68 images belonging to 2 classes.\n",
            "Epoch 1/50\n",
            "34/34 [==============================] - 141s 4s/step - loss: 0.7434 - accuracy: 0.5964 - val_loss: 0.6035 - val_accuracy: 0.8000\n",
            "Epoch 2/50\n",
            "34/34 [==============================] - 94s 3s/step - loss: 0.4758 - accuracy: 0.7831 - val_loss: 0.5376 - val_accuracy: 0.8000\n",
            "Epoch 3/50\n",
            "34/34 [==============================] - 97s 3s/step - loss: 0.4523 - accuracy: 0.7711 - val_loss: 0.6479 - val_accuracy: 0.8000\n",
            "Epoch 4/50\n",
            "34/34 [==============================] - 94s 3s/step - loss: 0.3472 - accuracy: 0.8735 - val_loss: 0.7180 - val_accuracy: 0.8000\n",
            "Epoch 5/50\n",
            "34/34 [==============================] - 94s 3s/step - loss: 0.3150 - accuracy: 0.8554 - val_loss: 0.5933 - val_accuracy: 0.8000\n",
            "Epoch 6/50\n",
            "34/34 [==============================] - 94s 3s/step - loss: 0.3110 - accuracy: 0.8584 - val_loss: 0.6618 - val_accuracy: 0.8000\n",
            "Epoch 7/50\n",
            "34/34 [==============================] - 94s 3s/step - loss: 0.3308 - accuracy: 0.8584 - val_loss: 0.5700 - val_accuracy: 0.7000\n",
            "Epoch 8/50\n",
            "34/34 [==============================] - 94s 3s/step - loss: 0.2650 - accuracy: 0.8916 - val_loss: 0.7996 - val_accuracy: 0.8000\n",
            "Epoch 9/50\n",
            "34/34 [==============================] - 94s 3s/step - loss: 0.2331 - accuracy: 0.9006 - val_loss: 1.1353 - val_accuracy: 0.6000\n",
            "Epoch 10/50\n",
            "34/34 [==============================] - 97s 3s/step - loss: 0.2530 - accuracy: 0.9066 - val_loss: 0.9456 - val_accuracy: 0.8000\n",
            "Epoch 11/50\n",
            "34/34 [==============================] - 94s 3s/step - loss: 0.2830 - accuracy: 0.8825 - val_loss: 1.1016 - val_accuracy: 0.6000\n",
            "Epoch 12/50\n",
            "34/34 [==============================] - 94s 3s/step - loss: 0.2457 - accuracy: 0.8976 - val_loss: 0.6390 - val_accuracy: 0.7000\n",
            "Epoch 13/50\n",
            "34/34 [==============================] - 94s 3s/step - loss: 0.2034 - accuracy: 0.9187 - val_loss: 1.5178 - val_accuracy: 0.6000\n",
            "Epoch 14/50\n",
            "34/34 [==============================] - 94s 3s/step - loss: 0.2494 - accuracy: 0.9006 - val_loss: 0.9700 - val_accuracy: 0.8000\n",
            "Epoch 15/50\n",
            "34/34 [==============================] - 94s 3s/step - loss: 0.2264 - accuracy: 0.9006 - val_loss: 1.5587 - val_accuracy: 0.6000\n",
            "Epoch 16/50\n",
            "34/34 [==============================] - 97s 3s/step - loss: 0.1901 - accuracy: 0.9096 - val_loss: 1.6432 - val_accuracy: 0.6000\n",
            "Epoch 17/50\n",
            "34/34 [==============================] - 94s 3s/step - loss: 0.2154 - accuracy: 0.9157 - val_loss: 1.2094 - val_accuracy: 0.6000\n",
            "Epoch 18/50\n",
            "34/34 [==============================] - 94s 3s/step - loss: 0.1964 - accuracy: 0.9277 - val_loss: 1.7861 - val_accuracy: 0.6000\n",
            "Epoch 19/50\n",
            "34/34 [==============================] - 94s 3s/step - loss: 0.2050 - accuracy: 0.9127 - val_loss: 1.6130 - val_accuracy: 0.6000\n",
            "Epoch 20/50\n",
            "34/34 [==============================] - 94s 3s/step - loss: 0.2494 - accuracy: 0.9006 - val_loss: 1.9715 - val_accuracy: 0.6000\n",
            "Epoch 21/50\n",
            "34/34 [==============================] - 94s 3s/step - loss: 0.2028 - accuracy: 0.9247 - val_loss: 1.6929 - val_accuracy: 0.6000\n",
            "Epoch 22/50\n",
            "34/34 [==============================] - 97s 3s/step - loss: 0.2367 - accuracy: 0.9066 - val_loss: 1.9508 - val_accuracy: 0.6000\n",
            "Epoch 23/50\n",
            "34/34 [==============================] - 94s 3s/step - loss: 0.1844 - accuracy: 0.9217 - val_loss: 1.6009 - val_accuracy: 0.6000\n",
            "Epoch 24/50\n",
            "34/34 [==============================] - 94s 3s/step - loss: 0.2017 - accuracy: 0.9157 - val_loss: 1.6478 - val_accuracy: 0.6000\n",
            "Epoch 25/50\n",
            "34/34 [==============================] - 95s 3s/step - loss: 0.2243 - accuracy: 0.9187 - val_loss: 2.1101 - val_accuracy: 0.6000\n",
            "Epoch 26/50\n",
            "34/34 [==============================] - 94s 3s/step - loss: 0.2085 - accuracy: 0.9187 - val_loss: 1.0441 - val_accuracy: 0.6000\n",
            "Epoch 27/50\n",
            "34/34 [==============================] - 94s 3s/step - loss: 0.2311 - accuracy: 0.9096 - val_loss: 1.2251 - val_accuracy: 0.6000\n",
            "Epoch 28/50\n",
            "34/34 [==============================] - 99s 3s/step - loss: 0.2082 - accuracy: 0.9157 - val_loss: 1.5154 - val_accuracy: 0.6000\n",
            "Epoch 29/50\n",
            "34/34 [==============================] - 94s 3s/step - loss: 0.2098 - accuracy: 0.9367 - val_loss: 1.5257 - val_accuracy: 0.6000\n",
            "Epoch 30/50\n",
            "34/34 [==============================] - 94s 3s/step - loss: 0.2120 - accuracy: 0.9337 - val_loss: 1.3578 - val_accuracy: 0.6000\n",
            "Epoch 31/50\n",
            "34/34 [==============================] - 94s 3s/step - loss: 0.1898 - accuracy: 0.9337 - val_loss: 1.5662 - val_accuracy: 0.6000\n",
            "Epoch 32/50\n",
            "34/34 [==============================] - 94s 3s/step - loss: 0.1893 - accuracy: 0.9157 - val_loss: 1.3103 - val_accuracy: 0.6000\n",
            "Epoch 33/50\n",
            "34/34 [==============================] - 94s 3s/step - loss: 0.1756 - accuracy: 0.9157 - val_loss: 1.2821 - val_accuracy: 0.6000\n",
            "Epoch 34/50\n",
            "34/34 [==============================] - 97s 3s/step - loss: 0.1796 - accuracy: 0.9367 - val_loss: 1.5436 - val_accuracy: 0.6000\n",
            "Epoch 35/50\n",
            "34/34 [==============================] - 93s 3s/step - loss: 0.1995 - accuracy: 0.9428 - val_loss: 1.2222 - val_accuracy: 0.6000\n",
            "Epoch 36/50\n",
            "34/34 [==============================] - 94s 3s/step - loss: 0.2391 - accuracy: 0.8825 - val_loss: 0.8295 - val_accuracy: 0.8000\n",
            "Epoch 37/50\n",
            "34/34 [==============================] - 94s 3s/step - loss: 0.1950 - accuracy: 0.9217 - val_loss: 1.8256 - val_accuracy: 0.6000\n",
            "Epoch 38/50\n",
            "34/34 [==============================] - 93s 3s/step - loss: 0.1896 - accuracy: 0.9217 - val_loss: 1.8051 - val_accuracy: 0.6000\n",
            "Epoch 39/50\n",
            "34/34 [==============================] - 94s 3s/step - loss: 0.1654 - accuracy: 0.9307 - val_loss: 1.8991 - val_accuracy: 0.6000\n",
            "Epoch 40/50\n",
            "34/34 [==============================] - 94s 3s/step - loss: 0.1937 - accuracy: 0.9367 - val_loss: 1.5247 - val_accuracy: 0.6000\n",
            "Epoch 41/50\n",
            "34/34 [==============================] - 98s 3s/step - loss: 0.2000 - accuracy: 0.9247 - val_loss: 1.4920 - val_accuracy: 0.6000\n",
            "Epoch 42/50\n",
            "34/34 [==============================] - 94s 3s/step - loss: 0.1528 - accuracy: 0.9337 - val_loss: 2.3335 - val_accuracy: 0.6000\n",
            "Epoch 43/50\n",
            "34/34 [==============================] - 94s 3s/step - loss: 0.1977 - accuracy: 0.9187 - val_loss: 2.3075 - val_accuracy: 0.6000\n",
            "Epoch 44/50\n",
            "34/34 [==============================] - 94s 3s/step - loss: 0.1602 - accuracy: 0.9428 - val_loss: 1.5672 - val_accuracy: 0.6000\n",
            "Epoch 45/50\n",
            "34/34 [==============================] - 94s 3s/step - loss: 0.1460 - accuracy: 0.9458 - val_loss: 1.2233 - val_accuracy: 0.6000\n",
            "Epoch 46/50\n",
            "34/34 [==============================] - 94s 3s/step - loss: 0.1883 - accuracy: 0.9458 - val_loss: 1.3609 - val_accuracy: 0.6000\n",
            "Epoch 47/50\n",
            "34/34 [==============================] - 99s 3s/step - loss: 0.2033 - accuracy: 0.9127 - val_loss: 1.6470 - val_accuracy: 0.6000\n",
            "Epoch 48/50\n",
            "34/34 [==============================] - 95s 3s/step - loss: 0.1817 - accuracy: 0.9217 - val_loss: 1.1548 - val_accuracy: 0.6000\n",
            "Epoch 49/50\n",
            "34/34 [==============================] - 95s 3s/step - loss: 0.2239 - accuracy: 0.9096 - val_loss: 1.4159 - val_accuracy: 0.6000\n",
            "Epoch 50/50\n",
            "34/34 [==============================] - 94s 3s/step - loss: 0.1902 - accuracy: 0.9398 - val_loss: 1.1994 - val_accuracy: 0.6000\n"
          ],
          "name": "stdout"
        }
      ]
    },
    {
      "cell_type": "code",
      "metadata": {
        "id": "wyrWTrFTs-ec",
        "outputId": "1d26bf14-4910-4644-d940-83969620eb37",
        "colab": {
          "base_uri": "https://localhost:8080/",
          "height": 1000
        }
      },
      "source": [
        "# Step-4: evaluate model's performance on train/eval/test datasets\n",
        "# ----------------------------------------------------------------\n",
        "loss, acc = model.evaluate_generator(train_generator,\n",
        "                     steps=train_steps, verbose=1)\n",
        "print('Training data  -> loss: %.3f, acc: %.3f' % (loss, acc))\n",
        "loss, acc = model.evaluate_generator(eval_generator,\n",
        "                     steps=val_steps, verbose=1)\n",
        "print('Cross-val data -> loss: %.3f, acc: %.3f' % (loss, acc))\n",
        "loss, acc = model.evaluate_generator(test_generator,\n",
        "                      steps=test_steps, verbose=1)\n",
        "print('Testing data   -> loss: %.3f, acc: %.3f' % (loss, acc))"
      ],
      "execution_count": null,
      "outputs": [
        {
          "output_type": "stream",
          "text": [
            "WARNING:tensorflow:From <ipython-input-17-2ebbb75f2e68>:4: Model.evaluate_generator (from tensorflow.python.keras.engine.training) is deprecated and will be removed in a future version.\n",
            "Instructions for updating:\n",
            "Please use Model.evaluate, which supports generators.\n",
            "34/34 [==============================] - 91s 3s/step - loss: 0.1643 - accuracy: 0.9382\n",
            "Training data  -> loss: 0.164, acc: 0.938\n",
            "1/1 [==============================] - 0s 1ms/step - loss: 1.1994 - accuracy: 0.6000\n",
            "Cross-val data -> loss: 1.199, acc: 0.600\n",
            "6/6 [==============================] - 29s 5s/step - loss: 0.2503 - accuracy: 0.9000\n",
            "Testing data   -> loss: 0.250, acc: 0.900\n"
          ],
          "name": "stdout"
        }
      ]
    }
  ]
}